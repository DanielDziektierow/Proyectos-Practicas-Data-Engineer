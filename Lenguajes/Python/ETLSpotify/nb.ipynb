{
 "cells": [
  {
   "cell_type": "code",
   "execution_count": 2,
   "id": "fca2dc65",
   "metadata": {},
   "outputs": [],
   "source": [
    "import plotly.express as px\n",
    "from spotipy.oauth2 import SpotifyClientCredentials\n",
    "\n",
    "import pandas as pd \n",
    "import numpy as np\n",
    "\n",
    "import plotly.express as px\n",
    "\n",
    "from config import client_secret, client_id"
   ]
  },
  {
   "cell_type": "code",
   "execution_count": 3,
   "id": "c1126315",
   "metadata": {},
   "outputs": [
    {
     "ename": "NameError",
     "evalue": "name 'spotipy' is not defined",
     "output_type": "error",
     "traceback": [
      "\u001b[31m---------------------------------------------------------------------------\u001b[39m",
      "\u001b[31mNameError\u001b[39m                                 Traceback (most recent call last)",
      "\u001b[36mCell\u001b[39m\u001b[36m \u001b[39m\u001b[32mIn[3]\u001b[39m\u001b[32m, line 2\u001b[39m\n\u001b[32m      1\u001b[39m client_credentials_manager= SpotifyClientCredentials(client_id= client_id, client_secret= client_secret)\n\u001b[32m----> \u001b[39m\u001b[32m2\u001b[39m sp= \u001b[43mspotipy\u001b[49m.Spotify(client_credentials_manager= client_credentials_manager)\n\u001b[32m      4\u001b[39m \u001b[38;5;66;03m#Ejemplo de extraccion de id.\u001b[39;00m\n\u001b[32m      6\u001b[39m results= sp.search(q= \u001b[33m'\u001b[39m\u001b[33mDavid Guetta\u001b[39m\u001b[33m'\u001b[39m, limit=\u001b[32m1\u001b[39m, \u001b[38;5;28mtype\u001b[39m=\u001b[33m'\u001b[39m\u001b[33martist\u001b[39m\u001b[33m'\u001b[39m)\n",
      "\u001b[31mNameError\u001b[39m: name 'spotipy' is not defined"
     ]
    }
   ],
   "source": [
    "client_credentials_manager= SpotifyClientCredentials(client_id= client_id, client_secret= client_secret)\n",
    "sp= spotipy.Spotify(client_credentials_manager= client_credentials_manager)\n",
    "\n",
    "#Ejemplo de extraccion de id.\n",
    "\n",
    "results= sp.search(q= 'David Guetta', limit=1, type='artist')\n",
    "artist_id= results['artists']['items'][0]['id']\n",
    "artist_id\n"
   ]
  }
 ],
 "metadata": {
  "kernelspec": {
   "display_name": "Python 3",
   "language": "python",
   "name": "python3"
  },
  "language_info": {
   "codemirror_mode": {
    "name": "ipython",
    "version": 3
   },
   "file_extension": ".py",
   "mimetype": "text/x-python",
   "name": "python",
   "nbconvert_exporter": "python",
   "pygments_lexer": "ipython3",
   "version": "3.11.7"
  }
 },
 "nbformat": 4,
 "nbformat_minor": 5
}
