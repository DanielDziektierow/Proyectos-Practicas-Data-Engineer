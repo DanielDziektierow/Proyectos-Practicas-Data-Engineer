{
 "cells": [
  {
   "cell_type": "code",
   "execution_count": 1,
   "id": "1554eb02",
   "metadata": {},
   "outputs": [],
   "source": [
    "import requests\n",
    "import pandas as pd\n",
    "import datetime\n",
    "\n",
    "# ==========================\n",
    "# CONFIGURACIÓN\n",
    "# ==========================\n",
    "CLIENT_ID = \"ca34ecfe814c4833abefa5c92f8e5216\"\n",
    "CLIENT_SECRET = \"2981B2b23c374984a212C979c63a1CB5\"\n",
    "\n",
    "# Endpoint de tránsito - elegí el que quieras (ejemplo: flujo vehicular)\n",
    "BASE_URL = \"https://apitransporte.buenosaires.gob.ar/ecobici/gbfs/stationInformation?client_id=ca34ecfe814c4833abefa5c92f8e5216&client_secret=2981B2b23c374984a212C979c63a1CB5\"\n",
    "\n"
   ]
  },
  {
   "cell_type": "code",
   "execution_count": 2,
   "id": "6954eaed",
   "metadata": {},
   "outputs": [],
   "source": [
    "# ==========================\n",
    "# FUNCIÓN PARA OBTENER DATOS\n",
    "# ==========================\n",
    "\n",
    "def get_transito_data():\n",
    "    params = {\n",
    "        \"client_id\": CLIENT_ID,\n",
    "        \"client_secret\": CLIENT_SECRET,\n",
    "        # Algunos endpoints permiten filtros, por ejemplo barrio, calle, etc.\n",
    "        # \"sentido\": \"NORTE\"   <-- depende de la documentación\n",
    "    }\n",
    "    \n",
    "    response = requests.get(BASE_URL, params=params)\n",
    "    \n",
    "    \n",
    "    if response.status_code == 200:\n",
    "        data = response.json()\n",
    "        print(\"OK\")\n",
    "        return data\n",
    "    else:\n",
    "        print(\"Error en la petición:\", response.status_code, response.text)\n",
    "        return None\n"
   ]
  },
  {
   "cell_type": "code",
   "execution_count": 3,
   "id": "1f0cb1d5",
   "metadata": {},
   "outputs": [],
   "source": [
    "# ==========================\n",
    "# GUARDAR EN CSV\n",
    "# ==========================\n",
    "def save_to_csv(data, filename=\"transito.csv\"):\n",
    "    # Ejemplo: los datos vienen en una lista bajo \"instancias\"\n",
    "    instancias = data.get(\"instancias\", [])\n",
    "    \n",
    "    # Aplanamos y transformamos en DataFrame\n",
    "    rows = []\n",
    "    for i in instancias:\n",
    "        row = {\n",
    "            \"fecha\": datetime.datetime.now().strftime(\"%Y-%m-%d %H:%M:%S\"),\n",
    "            \"distancia\": i.get(\"distancia\"),\n",
    "            \"nombre\": i.get(\"contenido\", {}).get(\"nombreId\"),\n",
    "            \"valor\": i.get(\"contenido\", {}).get(\"valor\")\n",
    "        }\n",
    "        rows.append(row)\n",
    "    \n",
    "    df = pd.DataFrame(rows)\n",
    "    \n",
    "    # Guardar en CSV (append si ya existe)\n",
    "    try:\n",
    "        old = pd.read_csv(filename)\n",
    "        df = pd.concat([old, df], ignore_index=True)\n",
    "    except FileNotFoundError:\n",
    "        pass\n",
    "    \n",
    "    df.to_csv(filename, index=False, encoding=\"utf-8\")\n",
    "    print(f\"Datos guardados en {filename}\")\n"
   ]
  },
  {
   "cell_type": "code",
   "execution_count": 4,
   "id": "97a059d2",
   "metadata": {},
   "outputs": [
    {
     "name": "stdout",
     "output_type": "stream",
     "text": [
      "Error en la petición: 500 Query parameter client_secret is not repeatable\n"
     ]
    }
   ],
   "source": [
    "# ==========================\n",
    "# MAIN\n",
    "# ==========================\n",
    "if __name__ == \"__main__\":\n",
    "    data = []\n",
    "    data = get_transito_data()\n",
    "    df = pd.DataFrame(data)"
   ]
  }
 ],
 "metadata": {
  "kernelspec": {
   "display_name": "test2",
   "language": "python",
   "name": "python3"
  },
  "language_info": {
   "codemirror_mode": {
    "name": "ipython",
    "version": 3
   },
   "file_extension": ".py",
   "mimetype": "text/x-python",
   "name": "python",
   "nbconvert_exporter": "python",
   "pygments_lexer": "ipython3",
   "version": "3.11.5"
  }
 },
 "nbformat": 4,
 "nbformat_minor": 5
}
