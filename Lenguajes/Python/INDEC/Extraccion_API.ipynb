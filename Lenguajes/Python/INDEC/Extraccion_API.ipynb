{
 "cells": [
  {
   "cell_type": "code",
   "execution_count": 4,
   "id": "bec4acf6",
   "metadata": {},
   "outputs": [
    {
     "name": "stdout",
     "output_type": "stream",
     "text": [
      "  station_id                 name physical_configuration        lat  \\\n",
      "0          2       002 - Retiro I       SMARTLITMAPFRAME -34.592424   \n",
      "1          3         003 - ADUANA       SMARTLITMAPFRAME -34.612207   \n",
      "2          4     004 - Plaza Roma       SMARTLITMAPFRAME -34.603008   \n",
      "3          5   005 - Plaza Italia       SMARTLITMAPFRAME -34.580550   \n",
      "4          6  006 - Parque Lezama       SMARTLITMAPFRAME -34.628526   \n",
      "\n",
      "         lon  altitude                              address post_code  \\\n",
      "0 -58.374710       NaN  AV. Dr. José María Ramos Mejía 1300     11111   \n",
      "1 -58.369129       NaN                  Av. Paseo Colón 380     C1063   \n",
      "2 -58.368856       NaN                   Av. Corrientes 100     11111   \n",
      "3 -58.420954       NaN                   Av. Sarmiento 2601      1111   \n",
      "4 -58.369758       NaN           Avenida Martin Garcia, 295      1111   \n",
      "\n",
      "   capacity  is_charging_station             rental_methods         groups  \\\n",
      "0        40                False  [KEY, TRANSITCARD, PHONE]       [RETIRO]   \n",
      "1        28                False  [KEY, TRANSITCARD, PHONE]    [MONSERRAT]   \n",
      "2        20                False  [KEY, TRANSITCARD, PHONE]  [SAN NICOLAS]   \n",
      "3        42                False  [KEY, TRANSITCARD, PHONE]      [PALERMO]   \n",
      "4        20                False  [KEY, TRANSITCARD, PHONE]    [SAN TELMO]   \n",
      "\n",
      "  obcn short_name  nearby_distance  _ride_code_support rental_uris  \\\n",
      "0                           1000.0                True          {}   \n",
      "1  NaN        NaN           1000.0                True          {}   \n",
      "2                           1000.0                True          {}   \n",
      "3                           1000.0                True          {}   \n",
      "4                           1000.0                True          {}   \n",
      "\n",
      "  cross_street  \n",
      "0          NaN  \n",
      "1            .  \n",
      "2          NaN  \n",
      "3          NaN  \n",
      "4          NaN  \n"
     ]
    }
   ],
   "source": [
    "import requests\n",
    "import pandas as pd\n",
    "\n",
    "# URL del endpoint (con tu client_id y client_secret incluidos)\n",
    "url = \"https://apitransporte.buenosaires.gob.ar/ecobici/gbfs/stationInformation\"\n",
    "params = {\n",
    "    \"client_id\": \"ca34ecfe814c4833abefa5c92f8e5216\",\n",
    "    \"client_secret\": \"2981B2b23c374984a212C979c63a1CB5\"\n",
    "}\n",
    "\n",
    "# Hacemos el request a la API\n",
    "response = requests.get(url, params=params)\n",
    "\n",
    "# Verificamos si la respuesta es correcta\n",
    "if response.status_code == 200:\n",
    "    data = response.json()\n",
    "    \n",
    "    # La clave que contiene la info de estaciones\n",
    "    stations = data[\"data\"][\"stations\"]\n",
    "    \n",
    "    # Lo pasamos a DataFrame para analizarlo mejor\n",
    "    df = pd.DataFrame(stations)\n",
    "    \n",
    "    # Mostramos las primeras filas\n",
    "    print(df.head())\n",
    "else:\n",
    "    print(f\"Error en la consulta: {response.status_code}\")\n"
   ]
  },
  {
   "cell_type": "code",
   "execution_count": 12,
   "id": "16d13a18",
   "metadata": {},
   "outputs": [
    {
     "name": "stdout",
     "output_type": "stream",
     "text": [
      "Columnas disponibles: Index(['provider', 'type', 'code', 'name', 'status', 'latitude', 'longitude'], dtype='object')\n",
      "          provider         type                                  code  name  \\\n",
      "0          UTC API  Cruce Sitra  e9ed18c5-8f8e-4f15-9353-6e094c059afd  1446   \n",
      "1          UTC API  Cruce Sitra  dbe2befe-09fa-4d59-a998-7b0b36028f67  1357   \n",
      "2          UTC API  Cruce Sitra  b530bc2e-6aa7-4b5a-b88b-e5e34a12169f  1111   \n",
      "3  Optimus signals    Cruce ETX                               SR-6289  6289   \n",
      "4          UTC API  Cruce Sitra  fa7bc9a1-f16d-46ed-a2d8-051af1c88937  2260   \n",
      "\n",
      "        status   latitude  longitude  \n",
      "0  Desconocido -34.608688 -58.403398  \n",
      "1    Conectado -34.604581 -58.398221  \n",
      "2  Desconocido -34.589888 -58.400882  \n",
      "3    Conectado -34.592104 -58.497044  \n",
      "4    Conectado -34.622077 -58.377203  \n"
     ]
    }
   ],
   "source": [
    "import requests\n",
    "import pandas as pd\n",
    "\n",
    "# Endpoint de semáforos\n",
    "url = \"https://apitransporte.buenosaires.gob.ar/transito/v1/semaforos\"\n",
    "\n",
    "params = {\n",
    "    \"client_id\": \"ca34ecfe814c4833abefa5c92f8e5216\",\n",
    "    \"client_secret\": \"2981B2b23c374984a212C979c63a1CB5\",\n",
    "    \"lat\": -34.6037,   # Ejemplo: Obelisco\n",
    "    \"lon\": -58.3816,\n",
    "    \"radio\": 2000      # metros alrededor del punto\n",
    "}\n",
    "\n",
    "response = requests.get(url, params=params)\n",
    "\n",
    "if response.status_code == 200:\n",
    "    data = response.json()\n",
    "    \n",
    "    # Ojo: los datos vienen en \"list\"\n",
    "    semaforos = data.get(\"list\", [])\n",
    "    \n",
    "    if semaforos:\n",
    "        df = pd.DataFrame(semaforos)\n",
    "        print(\"Columnas disponibles:\", df.columns)\n",
    "        print(df.head())\n",
    "    else:\n",
    "        print(\"No se encontraron semáforos en la zona.\")\n",
    "else:\n",
    "    print(f\"Error en la consulta: {response.status_code}\")\n"
   ]
  }
 ],
 "metadata": {
  "kernelspec": {
   "display_name": "test2",
   "language": "python",
   "name": "python3"
  },
  "language_info": {
   "codemirror_mode": {
    "name": "ipython",
    "version": 3
   },
   "file_extension": ".py",
   "mimetype": "text/x-python",
   "name": "python",
   "nbconvert_exporter": "python",
   "pygments_lexer": "ipython3",
   "version": "3.11.5"
  }
 },
 "nbformat": 4,
 "nbformat_minor": 5
}
